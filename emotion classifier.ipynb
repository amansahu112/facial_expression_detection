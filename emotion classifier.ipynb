{
 "cells": [
  {
   "cell_type": "code",
   "execution_count": 5,
   "metadata": {},
   "outputs": [
    {
     "name": "stderr",
     "output_type": "stream",
     "text": [
      "Using TensorFlow backend.\n"
     ]
    }
   ],
   "source": [
    "import numpy as np\n",
    "import pandas as pd\n",
    "import matplotlib.pyplot as plt\n",
    "import tensorflow as tf\n",
    "import seaborn as sb\n",
    "from keras.utils import to_categorical\n",
    "from keras.models import Sequential\n",
    "from keras.layers import Conv2D,MaxPooling2D,Dense,Flatten,Dropout\n",
    "from keras.optimizers import SGD,Adam\n",
    "from keras.preprocessing.image import ImageDataGenerator"
   ]
  },
  {
   "cell_type": "code",
   "execution_count": 2,
   "metadata": {},
   "outputs": [
    {
     "name": "stdout",
     "output_type": "stream",
     "text": [
      "Found 28709 images belonging to 7 classes.\n",
      "Found 7178 images belonging to 7 classes.\n"
     ]
    }
   ],
   "source": [
    "train_datagen = ImageDataGenerator(rescale=1./255)\n",
    "test_datagen = ImageDataGenerator(rescale=1./255)\n",
    "\n",
    "train_generator = train_datagen.flow_from_directory(\n",
    "                                directory=r\"./train/\",\n",
    "                                target_size=(48,48),\n",
    "                                batch_size=32,\n",
    "                                color_mode=\"grayscale\",\n",
    "                                class_mode='categorical')\n",
    "test_generator = test_datagen.flow_from_directory(\n",
    "                                directory=r\"./test/\",\n",
    "                                target_size=(48,48),\n",
    "                                batch_size=32,\n",
    "                                color_mode=\"grayscale\",\n",
    "                                class_mode='categorical')"
   ]
  },
  {
   "cell_type": "code",
   "execution_count": 3,
   "metadata": {},
   "outputs": [
    {
     "name": "stdout",
     "output_type": "stream",
     "text": [
      "WARNING:tensorflow:From C:\\Users\\amans\\Anaconda3\\lib\\site-packages\\tensorflow\\python\\ops\\resource_variable_ops.py:435: colocate_with (from tensorflow.python.framework.ops) is deprecated and will be removed in a future version.\n",
      "Instructions for updating:\n",
      "Colocations handled automatically by placer.\n"
     ]
    }
   ],
   "source": [
    "model = Sequential()\n",
    "model.add(Conv2D(32, kernel_size=(3, 3), activation='relu', input_shape=(48, 48, 1)))\n",
    "model.add(Conv2D(32, kernel_size=(3, 3), activation='relu'))\n",
    "model.add(MaxPooling2D(pool_size=(2, 2)))\n",
    "model.add(Conv2D(128, kernel_size=(3, 3), activation='relu'))\n",
    "model.add(Conv2D(128, kernel_size=(3, 3), activation='relu'))\n",
    "model.add(MaxPooling2D(pool_size=(2, 2), data_format=\"channels_first\"))\n",
    "model.add(Dropout(0.25))\n",
    "model.add(Flatten())\n",
    "model.add(Dense(256, activation='relu'))\n",
    "model.add(Dropout(0.5))\n",
    "model.add(Dense(7, activation='softmax'))"
   ]
  },
  {
   "cell_type": "code",
   "execution_count": 4,
   "metadata": {},
   "outputs": [],
   "source": [
    "model.compile(loss='categorical_crossentropy',\n",
    "              optimizer=\"adam\",\n",
    "              metrics=['accuracy'])"
   ]
  },
  {
   "cell_type": "code",
   "execution_count": 78,
   "metadata": {},
   "outputs": [
    {
     "name": "stdout",
     "output_type": "stream",
     "text": [
      "Epoch 1/10\n",
      "448/448 [==============================] - 172s 383ms/step - loss: 0.4080 - accuracy: 0.8469 - val_loss: 1.3350 - val_accuracy: 0.5837\n",
      "Epoch 2/10\n",
      "448/448 [==============================] - 178s 397ms/step - loss: 0.4330 - accuracy: 0.8405 - val_loss: 1.1256 - val_accuracy: 0.5960\n",
      "Epoch 3/10\n",
      "448/448 [==============================] - 165s 369ms/step - loss: 0.3858 - accuracy: 0.8554 - val_loss: 1.1053 - val_accuracy: 0.5811\n",
      "Epoch 4/10\n",
      "448/448 [==============================] - 158s 353ms/step - loss: 0.4329 - accuracy: 0.8416 - val_loss: 2.0810 - val_accuracy: 0.5893\n",
      "Epoch 5/10\n",
      "448/448 [==============================] - 167s 373ms/step - loss: 0.3812 - accuracy: 0.8639 - val_loss: 1.1590 - val_accuracy: 0.5870\n",
      "Epoch 6/10\n",
      "448/448 [==============================] - 164s 366ms/step - loss: 0.4270 - accuracy: 0.8457 - val_loss: 2.2137 - val_accuracy: 0.5790\n",
      "Epoch 7/10\n",
      "448/448 [==============================] - 160s 357ms/step - loss: 0.3746 - accuracy: 0.8632 - val_loss: 2.1088 - val_accuracy: 0.5929\n",
      "Epoch 8/10\n",
      "448/448 [==============================] - 165s 367ms/step - loss: 0.3825 - accuracy: 0.8615 - val_loss: 1.4317 - val_accuracy: 0.5790\n",
      "Epoch 9/10\n",
      "448/448 [==============================] - 160s 357ms/step - loss: 0.3696 - accuracy: 0.8613 - val_loss: 1.9712 - val_accuracy: 0.5738\n",
      "Epoch 10/10\n",
      "448/448 [==============================] - 161s 359ms/step - loss: 0.3702 - accuracy: 0.8636 - val_loss: 1.5028 - val_accuracy: 0.5831\n"
     ]
    }
   ],
   "source": [
    "model_log = model.fit_generator(train_generator,\n",
    "                                steps_per_epoch=28709 // 64,\n",
    "                                epochs=10,\n",
    "                                validation_data=test_generator,\n",
    "                                validation_steps=7178 // 64 )"
   ]
  },
  {
   "cell_type": "code",
   "execution_count": 3,
   "metadata": {},
   "outputs": [],
   "source": [
    "import cv2"
   ]
  },
  {
   "cell_type": "code",
   "execution_count": 6,
   "metadata": {},
   "outputs": [],
   "source": [
    "img = cv2.imread('aman.jpg',0)\n",
    "img=cv2.resize(img,(48,48))\n",
    "img= np.expand_dims(img, axis =0)\n",
    "img = np.expand_dims(img, axis=3)\n",
    "img= img/255.0"
   ]
  },
  {
   "cell_type": "code",
   "execution_count": null,
   "metadata": {},
   "outputs": [],
   "source": [
    "predictions=model.predict(img)\n",
    "max_index=np.argmax(predictions[0])\n",
    "emotions = ('angry', 'disgust', 'fear', 'happy', 'neutral', 'sad', 'surprise')\n",
    "predicted_emotion = emotions[max_index]\n",
    "print(predicted_emotion)"
   ]
  },
  {
   "cell_type": "code",
   "execution_count": 79,
   "metadata": {},
   "outputs": [],
   "source": [
    "emotion_json = model.to_json()\n",
    "with open(\"emotion.json\", \"w\") as json_file:\n",
    "    json_file.write(emotion_json)\n",
    "model.save_weights(\"emotion.h5\")"
   ]
  },
  {
   "cell_type": "code",
   "execution_count": null,
   "metadata": {},
   "outputs": [],
   "source": []
  }
 ],
 "metadata": {
  "kernelspec": {
   "display_name": "Python 3",
   "language": "python",
   "name": "python3"
  },
  "language_info": {
   "codemirror_mode": {
    "name": "ipython",
    "version": 3
   },
   "file_extension": ".py",
   "mimetype": "text/x-python",
   "name": "python",
   "nbconvert_exporter": "python",
   "pygments_lexer": "ipython3",
   "version": "3.7.3"
  }
 },
 "nbformat": 4,
 "nbformat_minor": 2
}
